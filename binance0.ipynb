{
 "cells": [
  {
   "cell_type": "code",
   "execution_count": 1,
   "metadata": {},
   "outputs": [],
   "source": [
    "# For SSL Certificate Verification Failed\n",
    "import certifi\n",
    "import ssl\n",
    "\n",
    "ssl_context = ssl.create_default_context()\n",
    "ssl_context.load_verify_locations(certifi.where())"
   ]
  },
  {
   "cell_type": "code",
   "execution_count": 2,
   "metadata": {},
   "outputs": [],
   "source": [
    "import websocket, json\n",
    "from binance.client import Client\n",
    "from binance.enums import *\n",
    "from binance.exceptions import BinanceAPIException, BinanceOrderException"
   ]
  },
  {
   "cell_type": "code",
   "execution_count": 10,
   "metadata": {},
   "outputs": [
    {
     "data": {
      "text/plain": [
       "'wss://stream.binance.com:9443/ws/bnbbtc@depth'"
      ]
     },
     "execution_count": 10,
     "metadata": {},
     "output_type": "execute_result"
    }
   ],
   "source": [
    "SYMBOL = \"ETHUSDT\"\n",
    "#SOCKET = \"wss://stream.binance.com:9443/ws/\"+SYMBOL+\"@kline_1m\"   \n",
    "SOCKET = \"wss://stream.binance.com:9443/ws/bnbbtc@depth\"\n",
    "\n",
    "api_key = \"SgGBckiSuDjNEqz7sqYRjzlOWw3ygqoyLvurqFYopJCN0flM7VVVLCAAKbV0PfVk\"\n",
    "api_secret = \"P9vSlW8154d4LX2IN5QHddzC1whbUQpO7cp4Vgm7uAAOPwUnYGrFeux1g8DogXtU\"\n",
    "\n",
    "client = Client(api_key, api_secret)\n",
    "\n",
    "SOCKET"
   ]
  },
  {
   "cell_type": "code",
   "execution_count": 12,
   "metadata": {},
   "outputs": [
    {
     "name": "stdout",
     "output_type": "stream",
     "text": [
      "opened connection\n",
      "{'e': 'depthUpdate', 'E': 1703732536428, 's': 'BNBBTC', 'U': 3227921491, 'u': 3227921507, 'b': [['0.00748100', '7.16300000'], ['0.00748000', '1.52000000'], ['0.00747700', '12.05700000'], ['0.00747600', '3.67700000'], ['0.00747200', '3.32900000'], ['0.00746800', '3.99900000'], ['0.00746700', '8.15700000']], 'a': [['0.00748200', '9.06800000'], ['0.00748300', '0.84200000'], ['0.00749300', '13.08900000'], ['0.00749700', '6.00000000'], ['0.00749800', '8.66900000'], ['0.00750000', '46.68100000']]}\n",
      "{'e': 'depthUpdate', 'E': 1703732537428, 's': 'BNBBTC', 'U': 3227921508, 'u': 3227921514, 'b': [['0.00748100', '7.04200000'], ['0.00748000', '6.91100000'], ['0.00746900', '18.99800000'], ['0.00746800', '0.00000000']], 'a': [['0.00748200', '9.21700000'], ['0.00748600', '9.68800000'], ['0.00749700', '1.03500000']]}\n",
      "{'e': 'depthUpdate', 'E': 1703732538428, 's': 'BNBBTC', 'U': 3227921515, 'u': 3227921524, 'b': [['0.00748100', '7.16100000'], ['0.00743500', '1.07100000']], 'a': [['0.00748200', '9.06800000'], ['0.00748500', '14.59500000'], ['0.00749300', '8.13000000'], ['0.00749400', '8.05700000'], ['0.00751000', '1.62400000'], ['0.02244600', '0.00000000']]}\n",
      "{'e': 'depthUpdate', 'E': 1703732539428, 's': 'BNBBTC', 'U': 3227921525, 'u': 3227921534, 'b': [['0.00748100', '7.04200000'], ['0.00747000', '83.82900000'], ['0.00746900', '15.01200000']], 'a': [['0.00748200', '8.96900000'], ['0.00748300', '0.00000000'], ['0.00748400', '4.17000000'], ['0.00748800', '3.79000000'], ['0.00748900', '17.52400000']]}\n",
      "{'e': 'depthUpdate', 'E': 1703732540428, 's': 'BNBBTC', 'U': 3227921535, 'u': 3227921540, 'b': [['0.00748100', '7.16100000']], 'a': [['0.00748200', '8.81900000'], ['0.00748600', '6.67300000'], ['0.00749400', '7.25000000'], ['0.00749800', '13.62900000']]}\n",
      "{'e': 'depthUpdate', 'E': 1703732541428, 's': 'BNBBTC', 'U': 3227921541, 'u': 3227921561, 'b': [['0.00748100', '0.00000000'], ['0.00748000', '13.10300000'], ['0.00747900', '7.55300000'], ['0.00747800', '6.18800000'], ['0.00747000', '79.84000000'], ['0.00746900', '19.03900000'], ['0.00746700', '6.05200000'], ['0.00722600', '0.19900000']], 'a': [['0.00748100', '0.00000000'], ['0.00748200', '1.90100000'], ['0.00748300', '2.67800000'], ['0.00748400', '7.23500000'], ['0.00748700', '7.79900000'], ['0.00748800', '8.73100000'], ['0.00748900', '12.58300000'], ['0.00749300', '4.91300000'], ['0.00749800', '8.66900000']]}\n",
      "{'e': 'depthUpdate', 'E': 1703732542428, 's': 'BNBBTC', 'U': 3227921562, 'u': 3227921573, 'b': [['0.00748100', '6.82200000'], ['0.00748000', '6.91100000']], 'a': [['0.00748200', '8.63000000'], ['0.00748300', '1.43300000'], ['0.00748400', '4.17000000'], ['0.00749400', '8.00800000']]}\n",
      "{'e': 'depthUpdate', 'E': 1703732543428, 's': 'BNBBTC', 'U': 3227921574, 'u': 3227921579, 'b': [['0.00748100', '6.70200000'], ['0.00747000', '83.85600000'], ['0.00746900', '15.01200000'], ['0.00746600', '81.98100000'], ['0.00722700', '0.86600000']], 'a': [['0.00748200', '8.78000000']]}\n",
      "{'e': 'depthUpdate', 'E': 1703732544429, 's': 'BNBBTC', 'U': 3227921580, 'u': 3227921596, 'b': [['0.00748100', '6.82100000'], ['0.00747800', '13.93900000'], ['0.00747500', '2.94000000'], ['0.00747300', '0.00000000'], ['0.00747200', '4.96900000'], ['0.00410400', '0.00000000']], 'a': [['0.00748200', '0.08500000'], ['0.00748300', '0.00000000'], ['0.00748400', '9.98100000'], ['0.00748600', '11.27700000'], ['0.00749400', '8.06200000']]}\n",
      "error\n",
      "\n",
      "closed connection\n"
     ]
    },
    {
     "data": {
      "text/plain": [
       "True"
      ]
     },
     "execution_count": 12,
     "metadata": {},
     "output_type": "execute_result"
    },
    {
     "name": "stdout",
     "output_type": "stream",
     "text": [
      "Received ping: b'1703732592519'\n"
     ]
    }
   ],
   "source": [
    "def on_open(ws):\n",
    "    print('opened connection')\n",
    "\n",
    "def on_close(ws, b, c):\n",
    "    print('closed connection')\n",
    "\n",
    "def on_message(ws, message):\n",
    "    #print(message)\n",
    "    json_message = json.loads(message)\n",
    "    print(json_message)\n",
    "    # candle = json_message['k']\n",
    "    # is_candle_closed = candle['x']\n",
    "    # close = candle['c']\n",
    "    # print(json_message['E'])\n",
    "    # print(\"c\n",
    "\n",
    "def on_error(ws, error):\n",
    "    print(\"error\")\n",
    "    print(error)\n",
    "\n",
    "def on_ping(ws, message):\n",
    "    print(f'Received ping: {message}')\n",
    "\n",
    "def on_pong(ws, message):\n",
    "    print(f'Received pong: {message}')\n",
    "\n",
    "ws = websocket.WebSocketApp(SOCKET, \n",
    "                            on_open=on_open,\n",
    "                            on_close=on_close,\n",
    "                            on_message=on_message,\n",
    "                            on_error=on_error,\n",
    "                            on_ping=on_ping,\n",
    "                            on_pong=on_pong)\n",
    "ws.run_forever()\n"
   ]
  },
  {
   "cell_type": "code",
   "execution_count": 9,
   "metadata": {},
   "outputs": [
    {
     "name": "stdout",
     "output_type": "stream",
     "text": [
      "opened connection\n",
      "Received ping: b'1703732052381'\n",
      "Received ping: b'1703732232561'\n"
     ]
    }
   ],
   "source": [
    "import threading\n",
    "ws_listener = threading.Thread(target=ws.run_forever)\n",
    "ws_listener.daemon = True\n",
    "# start second thread\n",
    "ws_listener.start()\n"
   ]
  },
  {
   "cell_type": "code",
   "execution_count": null,
   "metadata": {},
   "outputs": [],
   "source": []
  }
 ],
 "metadata": {
  "kernelspec": {
   "display_name": "Python 3",
   "language": "python",
   "name": "python3"
  },
  "language_info": {
   "codemirror_mode": {
    "name": "ipython",
    "version": 3
   },
   "file_extension": ".py",
   "mimetype": "text/x-python",
   "name": "python",
   "nbconvert_exporter": "python",
   "pygments_lexer": "ipython3",
   "version": "3.11.1"
  }
 },
 "nbformat": 4,
 "nbformat_minor": 2
}
